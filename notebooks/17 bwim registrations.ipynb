{
 "cells": [
  {
   "cell_type": "code",
   "execution_count": 43,
   "metadata": {},
   "outputs": [
    {
     "name": "stdout",
     "output_type": "stream",
     "text": [
      "The autoreload extension is already loaded. To reload it, use:\n",
      "  %reload_ext autoreload\n"
     ]
    }
   ],
   "source": [
    "%load_ext autoreload\n",
    "%autoreload 2\n",
    "import pandas as pd\n",
    "import polars as pl\n",
    "import os\n",
    "from source.config import INTERIM_DATA_DIR, RAW_DATA_DIR\n",
    "from source.features_dir.estimated_registrations import table, THRESHOLD_KM_REGISTRATION_RADIUS_FROM_COORDINATE_POINT, THRESHOLD_HOUR_AVOID_COUNTING_DUPLICATE_REGISTRATIONS"
   ]
  },
  {
   "cell_type": "code",
   "execution_count": 44,
   "metadata": {},
   "outputs": [],
   "source": [
    "df_truck = pd.read_csv(INTERIM_DATA_DIR / 'estimated_registrations' / 'processed-truck_only.csv')"
   ]
  },
  {
   "cell_type": "code",
   "execution_count": 45,
   "metadata": {},
   "outputs": [],
   "source": [
    "INDEX_DATE = 1\n",
    "INDEX_N_AXLES = 7\n",
    "\n",
    "def load_dfs(location: str) -> pd.DataFrame:\n",
    "    df_bwim =  pl.concat([\n",
    "        pl.read_csv(\n",
    "            RAW_DATA_DIR / 'BWIM' / location / f,\n",
    "            has_header=False,\n",
    "            truncate_ragged_lines=True,\n",
    "            ignore_errors=True,\n",
    "            separator=';',\n",
    "            decimal_comma=True\n",
    "        ) for f in os.listdir(RAW_DATA_DIR / 'BWIM' / location) if f.endswith('.csv')\n",
    "    ]).to_pandas()\n",
    "    df_bwim['datetime'] = pd.to_datetime(df_bwim.iloc[:, INDEX_DATE], format='%Y-%m-%d-%H-%M-%S-%f', errors='coerce')\n",
    "    df_bwim['date'] = df_bwim['datetime'].dt.date\n",
    "    df_bwim['n_axles'] = df_bwim.iloc[:, INDEX_N_AXLES]\n",
    "    df_bwim['vehicle_length'] = df_bwim.apply(lambda row: float(str(row[10 + row['n_axles']]).replace(',', '.')), axis=1)\n",
    "    df_bwim = df_bwim[df_bwim['vehicle_length'] >= 16]\n",
    "    return df_bwim"
   ]
  },
  {
   "cell_type": "code",
   "execution_count": 46,
   "metadata": {},
   "outputs": [
    {
     "name": "stderr",
     "output_type": "stream",
     "text": [
      "/tmp/ipykernel_27587/2575276073.py:18: FutureWarning: Series.__getitem__ treating keys as positions is deprecated. In a future version, integer keys will always be treated as labels (consistent with DataFrame behavior). To access a value by position, use `ser.iloc[pos]`\n",
      "  df_bwim['vehicle_length'] = df_bwim.apply(lambda row: float(str(row[10 + row['n_axles']]).replace(',', '.')), axis=1)\n",
      "/tmp/ipykernel_27587/2575276073.py:18: FutureWarning: Series.__getitem__ treating keys as positions is deprecated. In a future version, integer keys will always be treated as labels (consistent with DataFrame behavior). To access a value by position, use `ser.iloc[pos]`\n",
      "  df_bwim['vehicle_length'] = df_bwim.apply(lambda row: float(str(row[10 + row['n_axles']]).replace(',', '.')), axis=1)\n"
     ]
    }
   ],
   "source": [
    "df_bwim_tangensvingen = load_dfs('tangensvingen')\n",
    "valid_dates_tangensvingen = df_bwim_tangensvingen['date'].unique()\n",
    "\n",
    "df_bwim_sørbryn = load_dfs('sørbryn')\n",
    "valid_dates_sørbryn = df_bwim_sørbryn['date'].unique()"
   ]
  },
  {
   "cell_type": "code",
   "execution_count": 47,
   "metadata": {},
   "outputs": [],
   "source": [
    "coordinates = {\n",
    "    'tangensvingen': (60.89378600721336, 11.576611253561099),\n",
    "    'sørbryn': (60.772323376282074, 11.308699373298074)\n",
    "}"
   ]
  },
  {
   "cell_type": "code",
   "execution_count": 48,
   "metadata": {},
   "outputs": [
    {
     "name": "stderr",
     "output_type": "stream",
     "text": [
      "Processing roads:   0%|          | 0/2 [00:00<?, ?it/s]"
     ]
    },
    {
     "name": "stdout",
     "output_type": "stream",
     "text": [
      "10480\n"
     ]
    },
    {
     "name": "stderr",
     "output_type": "stream",
     "text": [
      "Processing roads:  50%|█████     | 1/2 [00:01<00:01,  1.43s/it]"
     ]
    },
    {
     "name": "stdout",
     "output_type": "stream",
     "text": [
      "10704\n"
     ]
    },
    {
     "name": "stderr",
     "output_type": "stream",
     "text": [
      "Processing roads: 100%|██████████| 2/2 [00:02<00:00,  1.08s/it]\n",
      "Processing roads:   0%|          | 0/2 [00:00<?, ?it/s]"
     ]
    },
    {
     "name": "stdout",
     "output_type": "stream",
     "text": [
      "10480\n"
     ]
    },
    {
     "name": "stderr",
     "output_type": "stream",
     "text": [
      "Processing roads:  50%|█████     | 1/2 [00:01<00:01,  1.43s/it]"
     ]
    },
    {
     "name": "stdout",
     "output_type": "stream",
     "text": [
      "10704\n"
     ]
    },
    {
     "name": "stderr",
     "output_type": "stream",
     "text": [
      "Processing roads: 100%|██████████| 2/2 [00:00<00:00, -3.80it/s]\n"
     ]
    }
   ],
   "source": [
    "table_tangensvingen = table(\n",
    "    df=df_truck,\n",
    "    road_coordinates=coordinates,\n",
    "    threshold_radius_km=THRESHOLD_KM_REGISTRATION_RADIUS_FROM_COORDINATE_POINT,\n",
    "    threshold_time_hours=THRESHOLD_HOUR_AVOID_COUNTING_DUPLICATE_REGISTRATIONS,\n",
    "    subpath='bwim74t',\n",
    "    valid_dates=valid_dates_tangensvingen\n",
    ").query('Vei == \"tangensvingen\"')\n",
    "\n",
    "table_sørbryn = table(\n",
    "    df=df_truck,\n",
    "    road_coordinates=coordinates,\n",
    "    threshold_radius_km=THRESHOLD_KM_REGISTRATION_RADIUS_FROM_COORDINATE_POINT,\n",
    "    threshold_time_hours=THRESHOLD_HOUR_AVOID_COUNTING_DUPLICATE_REGISTRATIONS,\n",
    "    subpath='bwim74t',\n",
    "    valid_dates=valid_dates_sørbryn\n",
    ").query('Vei == \"sørbryn\"')"
   ]
  },
  {
   "cell_type": "code",
   "execution_count": 89,
   "metadata": {},
   "outputs": [],
   "source": [
    "def create_road_registrations(df_bk74: pd.DataFrame, df_bwim) -> pd.DataFrame:\n",
    "    # 74 er filtrert til å kun ta dagene BWIM sensorene var i drift\n",
    "    data, columns = [], ['År', 'Registreringer BK74', 'Registreringer BWIM', 'Prosent BK74 av BWIM']\n",
    "    for year in [2022, 2023, 2024]:\n",
    "        registrations_year_bk74 = sum([int(df_bk74[f'{year} {tonnage}t']) for tonnage in [60, 65, 68, 74]])\n",
    "        registrations_year_bwim = int(len(df_bwim[df_bwim['datetime'].dt.year == year]))\n",
    "        percentage_bk74_bwim = registrations_year_bk74 / registrations_year_bwim * 100 if registrations_year_bwim > 0 else 0\n",
    "        data.append([year, registrations_year_bk74, registrations_year_bwim, percentage_bk74_bwim])\n",
    "    return pd.DataFrame(data=data, columns=columns)\n"
   ]
  },
  {
   "cell_type": "code",
   "execution_count": 90,
   "metadata": {},
   "outputs": [
    {
     "name": "stderr",
     "output_type": "stream",
     "text": [
      "/tmp/ipykernel_27587/1388232334.py:5: FutureWarning: Calling int on a single element Series is deprecated and will raise a TypeError in the future. Use int(ser.iloc[0]) instead\n",
      "  registrations_year_bk74 = sum([int(df_bk74[f'{year} {tonnage}t']) for tonnage in [60, 65, 68, 74]])\n"
     ]
    },
    {
     "data": {
      "text/html": [
       "<div>\n",
       "<style scoped>\n",
       "    .dataframe tbody tr th:only-of-type {\n",
       "        vertical-align: middle;\n",
       "    }\n",
       "\n",
       "    .dataframe tbody tr th {\n",
       "        vertical-align: top;\n",
       "    }\n",
       "\n",
       "    .dataframe thead th {\n",
       "        text-align: right;\n",
       "    }\n",
       "</style>\n",
       "<table border=\"1\" class=\"dataframe\">\n",
       "  <thead>\n",
       "    <tr style=\"text-align: right;\">\n",
       "      <th></th>\n",
       "      <th>År</th>\n",
       "      <th>Registreringer BK74</th>\n",
       "      <th>Registreringer BWIM</th>\n",
       "      <th>Prosent BK74 av BWIM</th>\n",
       "    </tr>\n",
       "  </thead>\n",
       "  <tbody>\n",
       "    <tr>\n",
       "      <th>0</th>\n",
       "      <td>2022</td>\n",
       "      <td>18</td>\n",
       "      <td>508</td>\n",
       "      <td>3.543307</td>\n",
       "    </tr>\n",
       "    <tr>\n",
       "      <th>1</th>\n",
       "      <td>2023</td>\n",
       "      <td>0</td>\n",
       "      <td>0</td>\n",
       "      <td>0.000000</td>\n",
       "    </tr>\n",
       "    <tr>\n",
       "      <th>2</th>\n",
       "      <td>2024</td>\n",
       "      <td>0</td>\n",
       "      <td>0</td>\n",
       "      <td>0.000000</td>\n",
       "    </tr>\n",
       "  </tbody>\n",
       "</table>\n",
       "</div>"
      ],
      "text/plain": [
       "     År  Registreringer BK74  Registreringer BWIM  Prosent BK74 av BWIM\n",
       "0  2022                   18                  508              3.543307\n",
       "1  2023                    0                    0              0.000000\n",
       "2  2024                    0                    0              0.000000"
      ]
     },
     "execution_count": 90,
     "metadata": {},
     "output_type": "execute_result"
    }
   ],
   "source": [
    "create_road_registrations(table_tangensvingen, df_bwim_tangensvingen)"
   ]
  },
  {
   "cell_type": "code",
   "execution_count": null,
   "metadata": {},
   "outputs": [],
   "source": [
    "create_road_registrations(table_sørbryn, df_bwim_sørbryn)"
   ]
  }
 ],
 "metadata": {
  "kernelspec": {
   "display_name": ".venv",
   "language": "python",
   "name": "python3"
  },
  "language_info": {
   "codemirror_mode": {
    "name": "ipython",
    "version": 3
   },
   "file_extension": ".py",
   "mimetype": "text/x-python",
   "name": "python",
   "nbconvert_exporter": "python",
   "pygments_lexer": "ipython3",
   "version": "3.12.3"
  }
 },
 "nbformat": 4,
 "nbformat_minor": 2
}
