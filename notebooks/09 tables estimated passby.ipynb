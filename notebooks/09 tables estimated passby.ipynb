{
 "cells": [
  {
   "cell_type": "code",
   "execution_count": 1,
   "metadata": {},
   "outputs": [
    {
     "name": "stderr",
     "output_type": "stream",
     "text": [
      "\u001b[32m2025-01-18 13:44:48.239\u001b[0m | \u001b[1mINFO    \u001b[0m | \u001b[36msource.config\u001b[0m:\u001b[36m<module>\u001b[0m:\u001b[36m13\u001b[0m - \u001b[1mPROJ_ROOT path is: /home/anders/engasjement_svv\u001b[0m\n"
     ]
    }
   ],
   "source": [
    "import pandas as pd\n",
    "from source.features_dir import estimated_registrations"
   ]
  },
  {
   "cell_type": "code",
   "execution_count": 2,
   "metadata": {},
   "outputs": [],
   "source": [
    "subpath = estimated_registrations.SUBPATH"
   ]
  },
  {
   "cell_type": "code",
   "execution_count": 3,
   "metadata": {},
   "outputs": [],
   "source": [
    "df_truck = pd.read_csv(f'../data/processed/estimated_registrations/{subpath}/final-truck_only.csv')\n",
    "df_trailer = pd.read_csv(f'../data/processed/estimated_registrations/{subpath}/final-trailer_only.csv')"
   ]
  },
  {
   "cell_type": "code",
   "execution_count": 4,
   "metadata": {},
   "outputs": [],
   "source": [
    "def res(df_org):\n",
    "    df = df_org.copy()\n",
    "    numeric_df = df.select_dtypes(include=['number'])\n",
    "    df['Total'] = numeric_df.sum(axis=1)\n",
    "    total_row = numeric_df.sum(axis=0)\n",
    "    total_row['Total'] = df['Total'].sum()  # Grand total\n",
    "    total_df = pd.DataFrame(total_row).T\n",
    "    total_df.index = ['Total']  # Label the total row\n",
    "    result_df = pd.concat([df, total_df])\n",
    "    return result_df"
   ]
  },
  {
   "cell_type": "code",
   "execution_count": 5,
   "metadata": {},
   "outputs": [],
   "source": [
    "truck_res = res(df_truck)\n",
    "trailer_res = res(df_trailer)"
   ]
  },
  {
   "cell_type": "code",
   "execution_count": 6,
   "metadata": {},
   "outputs": [],
   "source": [
    "truck_res.to_csv(f'../data/processed/estimated_registrations/{subpath}/lastebil.csv', index=False)\n",
    "trailer_res.to_csv(f'../data/processed/estimated_registrations/{subpath}/tilhenger.csv', index=False)"
   ]
  },
  {
   "cell_type": "code",
   "execution_count": 7,
   "metadata": {},
   "outputs": [
    {
     "name": "stdout",
     "output_type": "stream",
     "text": [
      "\\begin{tabular}{llrrrrrrrrrrrrrrrrrl}\n",
      "\\toprule\n",
      " & Vei & 2021 60t & 2021 65t & 2021 68t & 2021 74t & 2022 60t & 2022 65t & 2022 68t & 2022 74t & 2023 60t & 2023 65t & 2023 68t & 2023 74t & 2024 60t & 2024 65t & 2024 68t & 2024 74t & Total & ÅDTT \\\\\n",
      "\\midrule\n",
      "0 & Mattisdammen & 0 & 10 & 0 & 5 & 0 & 19 & 12 & 67 & 0 & 62 & 27 & 88 & 1 & 40 & 23 & 26 & 380 & 0.25 \\\\\n",
      "1 & Faldåen bru & 0 & 9 & 0 & 5 & 1 & 17 & 12 & 151 & 0 & 38 & 46 & 115 & 1 & 27 & 14 & 14 & 450 & 0.15 \\\\\n",
      "2 & Sundåa bru & 5 & 10 & 0 & 172 & 4 & 23 & 26 & 382 & 0 & 66 & 125 & 329 & 5 & 77 & 59 & 102 & 1385 & 0.67 \\\\\n",
      "3 & Støadammen & 7 & 9 & 0 & 141 & 2 & 19 & 35 & 620 & 4 & 38 & 238 & 646 & 0 & 40 & 51 & 141 & 1991 & 0.64 \\\\\n",
      "4 & Uthus bru & 1 & 0 & 0 & 9 & 4 & 0 & 48 & 83 & 2 & 2 & 56 & 55 & 1 & 2 & 5 & 21 & 289 & 0.08 \\\\\n",
      "5 & Skavabakken & 1 & 1 & 0 & 53 & 11 & 9 & 20 & 84 & 7 & 4 & 69 & 123 & 0 & 2 & 7 & 39 & 430 & 0.13 \\\\\n",
      "6 & Rabben bru & 2 & 1 & 0 & 7 & 7 & 0 & 12 & 26 & 7 & 0 & 34 & 91 & 0 & 0 & 7 & 10 & 204 & 0.05 \\\\\n",
      "7 & Tangen 0/NSB & 8 & 0 & 0 & 12 & 4 & 0 & 7 & 8 & 7 & 0 & 28 & 28 & 0 & 0 & 4 & 9 & 115 & 0.04 \\\\\n",
      "8 & Vik bru & 5 & 0 & 0 & 3 & 3 & 0 & 7 & 5 & 7 & 0 & 22 & 19 & 0 & 0 & 2 & 3 & 76 & 0.01 \\\\\n",
      "9 & Breidablikk & 0 & 0 & 0 & 0 & 0 & 0 & 0 & 0 & 1 & 0 & 0 & 1 & 0 & 1 & 1 & 0 & 4 & 0.01 \\\\\n",
      "10 & Kulvert o/SV-ledning & 0 & 0 & 0 & 0 & 0 & 0 & 0 & 0 & 1 & 0 & 0 & 1 & 0 & 1 & 0 & 0 & 3 & 0.00 \\\\\n",
      "11 & Stangebrua & 0 & 0 & 0 & 0 & 0 & 0 & 0 & 0 & 2 & 2 & 0 & 0 & 0 & 1 & 0 & 0 & 5 & 0.00 \\\\\n",
      "12 & Hamar O/Rørosbanen & 0 & 0 & 0 & 0 & 0 & 0 & 0 & 0 & 0 & 4 & 0 & 0 & 0 & 0 & 0 & 0 & 4 & 0.00 \\\\\n",
      "13 & Vektbakken & 1 & 0 & 0 & 0 & 1 & 0 & 8 & 1 & 7 & 0 & 3 & 2 & 0 & 0 & 1 & 2 & 26 & 0.01 \\\\\n",
      "14 & Flagstad bru & 4 & 0 & 0 & 4 & 12 & 0 & 59 & 4 & 53 & 4 & 21 & 10 & 0 & 0 & 1 & 3 & 175 & 0.01 \\\\\n",
      "15 & Finsal-bekken & 16 & 1 & 0 & 2 & 82 & 1 & 23 & 1 & 63 & 1 & 7 & 12 & 8 & 0 & 0 & 4 & 221 & 0.03 \\\\\n",
      "16 & Lovisenberg o/g-sveg & 31 & 8 & 0 & 4 & 62 & 15 & 44 & 14 & 90 & 33 & 11 & 20 & 10 & 8 & 2 & 2 & 354 & 0.06 \\\\\n",
      "17 & Falls bru & 18 & 0 & 0 & 24 & 19 & 3 & 26 & 54 & 77 & 5 & 24 & 83 & 9 & 11 & 2 & 50 & 405 & 0.20 \\\\\n",
      "18 & Haukstad bru & 11 & 0 & 0 & 24 & 13 & 3 & 23 & 56 & 57 & 2 & 20 & 65 & 5 & 6 & 2 & 41 & 328 & 0.15 \\\\\n",
      "19 & Bjørge bru & 3 & 0 & 0 & 2 & 14 & 0 & 141 & 7 & 26 & 0 & 13 & 4 & 0 & 0 & 8 & 1 & 219 & 0.02 \\\\\n",
      "20 & Dystvoll bru & 15 & 0 & 0 & 14 & 46 & 0 & 221 & 73 & 39 & 2 & 50 & 93 & 0 & 0 & 13 & 14 & 580 & 0.07 \\\\\n",
      "21 & Brovoll & 19 & 3 & 0 & 89 & 68 & 1 & 328 & 311 & 73 & 9 & 215 & 467 & 6 & 3 & 32 & 88 & 1712 & 0.35 \\\\\n",
      "22 & Postbekkbrua & 0 & 4 & 0 & 0 & 3 & 40 & 4 & 11 & 2 & 12 & 31 & 2 & 0 & 17 & 0 & 0 & 126 & 0.05 \\\\\n",
      "23 & Strandlykkja bru & 0 & 2 & 0 & 0 & 8 & 6 & 32 & 57 & 2 & 3 & 35 & 95 & 1 & 3 & 2 & 24 & 270 & 0.08 \\\\\n",
      "24 & Frangsbekken kulvert  & 0 & 8 & 0 & 1 & 24 & 88 & 48 & 91 & 6 & 25 & 84 & 160 & 1 & 36 & 8 & 68 & 648 & 0.31 \\\\\n",
      "25 & Espa bru & 0 & 0 & 0 & 4 & 1 & 0 & 5 & 14 & 0 & 17 & 5 & 5 & 0 & 0 & 2 & 1 & 54 & 0.01 \\\\\n",
      "26 & Nordre Flagstad bru & 9 & 0 & 0 & 2 & 50 & 0 & 44 & 1 & 112 & 4 & 10 & 13 & 14 & 0 & 3 & 1 & 263 & 0.05 \\\\\n",
      "27 & Nashaug & 0 & 0 & 0 & 0 & 3 & 0 & 7 & 0 & 13 & 2 & 0 & 4 & 0 & 0 & 0 & 1 & 30 & 0.00 \\\\\n",
      "28 & Alderslyst bru & 4 & 0 & 0 & 13 & 32 & 0 & 88 & 62 & 23 & 0 & 43 & 184 & 1 & 0 & 13 & 41 & 504 & 0.15 \\\\\n",
      "29 & Grylling & 2 & 0 & 0 & 15 & 12 & 0 & 36 & 21 & 14 & 0 & 10 & 111 & 0 & 0 & 8 & 24 & 253 & 0.09 \\\\\n",
      "30 & Stensby bru & 0 & 0 & 0 & 0 & 3 & 0 & 0 & 0 & 0 & 0 & 0 & 0 & 0 & 0 & 0 & 0 & 3 & 0.00 \\\\\n",
      "31 & Budorvegen overgangsbru & 7 & 0 & 0 & 55 & 20 & 4 & 49 & 91 & 35 & 13 & 24 & 62 & 5 & 3 & 16 & 37 & 421 & 0.17 \\\\\n",
      "32 & Vingerjesa & 11 & 26 & 0 & 28 & 10 & 21 & 5 & 39 & 32 & 32 & 9 & 143 & 4 & 2 & 6 & 23 & 391 & 0.10 \\\\\n",
      "33 & Havrebekken bru & 8 & 5 & 0 & 52 & 48 & 0 & 52 & 260 & 35 & 5 & 45 & 481 & 2 & 3 & 16 & 88 & 1100 & 0.30 \\\\\n",
      "34 & Hammeren bru & 0 & 0 & 0 & 8 & 1 & 0 & 2 & 38 & 0 & 0 & 3 & 26 & 1 & 0 & 0 & 3 & 82 & 0.01 \\\\\n",
      "35 & Kanalbrua & 0 & 0 & 0 & 8 & 1 & 0 & 2 & 38 & 0 & 0 & 3 & 26 & 1 & 0 & 0 & 3 & 82 & 0.01 \\\\\n",
      "36 & Oset bru & 0 & 1 & 0 & 19 & 10 & 0 & 41 & 68 & 10 & 0 & 8 & 146 & 1 & 0 & 2 & 36 & 342 & 0.11 \\\\\n",
      "37 & Kirkebrua & 0 & 0 & 0 & 5 & 0 & 0 & 0 & 32 & 2 & 0 & 1 & 14 & 0 & 1 & 1 & 0 & 56 & 0.01 \\\\\n",
      "38 & Klæpa bru & 6 & 0 & 0 & 11 & 4 & 0 & 1 & 32 & 27 & 0 & 9 & 57 & 0 & 1 & 0 & 6 & 154 & 0.02 \\\\\n",
      "39 & Skogsrud bru & 4 & 1 & 0 & 9 & 5 & 5 & 17 & 59 & 2 & 0 & 78 & 92 & 1 & 1 & 24 & 10 & 308 & 0.10 \\\\\n",
      "40 & Skogsrud & 4 & 1 & 0 & 9 & 5 & 5 & 17 & 59 & 2 & 0 & 78 & 92 & 1 & 1 & 24 & 10 & 308 & 0.10 \\\\\n",
      "41 & Foss bru & 5 & 1 & 0 & 8 & 5 & 0 & 8 & 49 & 0 & 0 & 327 & 142 & 0 & 0 & 90 & 44 & 679 & 0.37 \\\\\n",
      "42 & Moen bru & 5 & 2 & 0 & 96 & 4 & 8 & 77 & 371 & 16 & 8 & 104 & 337 & 1 & 4 & 11 & 51 & 1095 & 0.18 \\\\\n",
      "43 & Hørsand bru & 0 & 0 & 0 & 19 & 0 & 0 & 0 & 83 & 2 & 0 & 1 & 54 & 3 & 3 & 0 & 1 & 166 & 0.02 \\\\\n",
      "44 & Ommangsvollen overgangsbru & 4 & 7 & 0 & 57 & 2 & 15 & 36 & 112 & 17 & 20 & 31 & 119 & 2 & 2 & 3 & 24 & 451 & 0.08 \\\\\n",
      "45 & Kolostuen nordg. & 8 & 0 & 0 & 302 & 38 & 26 & 492 & 836 & 49 & 43 & 723 & 1260 & 4 & 6 & 122 & 291 & 4200 & 1.16 \\\\\n",
      "46 & Kolostuen bru sørg. & 8 & 0 & 0 & 302 & 38 & 26 & 492 & 836 & 49 & 43 & 723 & 1260 & 4 & 6 & 122 & 291 & 4200 & 1.16 \\\\\n",
      "47 & Horne & 0 & 0 & 0 & 0 & 0 & 0 & 0 & 0 & 0 & 0 & 0 & 0 & 0 & 0 & 0 & 0 & 0 & 0.00 \\\\\n",
      "48 & Ilseng bru & 0 & 0 & 0 & 0 & 0 & 0 & 0 & 0 & 0 & 0 & 1 & 1 & 0 & 2 & 0 & 0 & 4 & 0.01 \\\\\n",
      "49 & Morønningen bru & 5 & 0 & 0 & 56 & 6 & 9 & 70 & 210 & 29 & 14 & 100 & 207 & 2 & 8 & 5 & 57 & 778 & 0.20 \\\\\n",
      "50 & Klevfoss bru & 10 & 3 & 0 & 65 & 7 & 10 & 46 & 268 & 17 & 9 & 39 & 174 & 1 & 3 & 8 & 26 & 686 & 0.10 \\\\\n",
      "51 & Nyhuset bru & 21 & 5 & 0 & 82 & 13 & 22 & 53 & 383 & 35 & 10 & 57 & 274 & 1 & 12 & 11 & 55 & 1034 & 0.22 \\\\\n",
      "Total & NaN & 268 & 118 & 0 & 1796 & 706 & 395 & 2776 & 6068 & 1054 & 532 & 3591 & 7793 & 97 & 333 & 731 & 1786 & 28044 & - \\\\\n",
      "\\bottomrule\n",
      "\\end{tabular}\n",
      "\n"
     ]
    },
    {
     "name": "stderr",
     "output_type": "stream",
     "text": [
      "/tmp/ipykernel_72745/732592937.py:3: FutureWarning: Setting an item of incompatible dtype is deprecated and will raise an error in a future version of pandas. Value '-' has dtype incompatible with float64, please explicitly cast to a compatible dtype first.\n",
      "  truck_res.loc['Total', 'ÅDTT'] = '-'\n"
     ]
    }
   ],
   "source": [
    "truck_res['ÅDTT'] = truck_res[['2024 60t', '2024 65t', '2024 68t', '2024 74t']].sum(axis=1) / 365\n",
    "truck_res['ÅDTT'] = truck_res['ÅDTT'].round(2)\n",
    "truck_res.loc['Total', 'ÅDTT'] = '-'\n",
    "print(truck_res.to_latex(formatters={'ÅDTT': lambda x: f'{x:.2f}' if isinstance(x, float) else x}))"
   ]
  },
  {
   "cell_type": "code",
   "execution_count": 8,
   "metadata": {},
   "outputs": [
    {
     "name": "stdout",
     "output_type": "stream",
     "text": [
      "\\begin{tabular}{llrrrrrrrrrrrrrrrrrl}\n",
      "\\toprule\n",
      " & Vei & 2021 60t & 2021 65t & 2021 68t & 2021 74t & 2022 60t & 2022 65t & 2022 68t & 2022 74t & 2023 60t & 2023 65t & 2023 68t & 2023 74t & 2024 60t & 2024 65t & 2024 68t & 2024 74t & Total & ÅDTT \\\\\n",
      "\\midrule\n",
      "0 & Mattisdammen & 0 & 10 & 0 & 5 & 0 & 19 & 12 & 67 & 0 & 62 & 27 & 88 & 1 & 40 & 23 & 26 & 380 & 0.25 \\\\\n",
      "1 & Faldåen bru & 0 & 9 & 0 & 5 & 1 & 17 & 12 & 151 & 0 & 38 & 46 & 115 & 1 & 27 & 14 & 14 & 450 & 0.15 \\\\\n",
      "2 & Sundåa bru & 5 & 10 & 0 & 172 & 4 & 23 & 26 & 382 & 0 & 66 & 125 & 329 & 5 & 77 & 59 & 102 & 1385 & 0.67 \\\\\n",
      "3 & Støadammen & 7 & 9 & 0 & 141 & 2 & 19 & 35 & 620 & 4 & 38 & 238 & 646 & 0 & 40 & 51 & 141 & 1991 & 0.64 \\\\\n",
      "4 & Uthus bru & 1 & 0 & 0 & 9 & 4 & 0 & 48 & 83 & 2 & 2 & 56 & 55 & 1 & 2 & 5 & 21 & 289 & 0.08 \\\\\n",
      "5 & Skavabakken & 1 & 1 & 0 & 53 & 11 & 9 & 20 & 84 & 7 & 4 & 69 & 123 & 0 & 2 & 7 & 39 & 430 & 0.13 \\\\\n",
      "6 & Rabben bru & 2 & 1 & 0 & 7 & 7 & 0 & 12 & 26 & 7 & 0 & 34 & 91 & 0 & 0 & 7 & 10 & 204 & 0.05 \\\\\n",
      "7 & Tangen 0/NSB & 8 & 0 & 0 & 12 & 4 & 0 & 7 & 8 & 7 & 0 & 28 & 28 & 0 & 0 & 4 & 9 & 115 & 0.04 \\\\\n",
      "8 & Vik bru & 5 & 0 & 0 & 3 & 3 & 0 & 7 & 5 & 7 & 0 & 22 & 19 & 0 & 0 & 2 & 3 & 76 & 0.01 \\\\\n",
      "9 & Breidablikk & 0 & 0 & 0 & 0 & 0 & 0 & 0 & 0 & 1 & 0 & 0 & 1 & 0 & 1 & 1 & 0 & 4 & 0.01 \\\\\n",
      "10 & Kulvert o/SV-ledning & 0 & 0 & 0 & 0 & 0 & 0 & 0 & 0 & 1 & 0 & 0 & 1 & 0 & 1 & 0 & 0 & 3 & 0.00 \\\\\n",
      "11 & Stangebrua & 0 & 0 & 0 & 0 & 0 & 0 & 0 & 0 & 2 & 2 & 0 & 0 & 0 & 1 & 0 & 0 & 5 & 0.00 \\\\\n",
      "12 & Hamar O/Rørosbanen & 0 & 0 & 0 & 0 & 0 & 0 & 0 & 0 & 0 & 4 & 0 & 0 & 0 & 0 & 0 & 0 & 4 & 0.00 \\\\\n",
      "13 & Vektbakken & 1 & 0 & 0 & 0 & 1 & 0 & 8 & 1 & 7 & 0 & 3 & 2 & 0 & 0 & 1 & 2 & 26 & 0.01 \\\\\n",
      "14 & Flagstad bru & 4 & 0 & 0 & 4 & 12 & 0 & 59 & 4 & 53 & 4 & 21 & 10 & 0 & 0 & 1 & 3 & 175 & 0.01 \\\\\n",
      "15 & Finsal-bekken & 16 & 1 & 0 & 2 & 82 & 1 & 23 & 1 & 63 & 1 & 7 & 12 & 8 & 0 & 0 & 4 & 221 & 0.03 \\\\\n",
      "16 & Lovisenberg o/g-sveg & 31 & 8 & 0 & 4 & 62 & 15 & 44 & 14 & 90 & 33 & 11 & 20 & 10 & 8 & 2 & 2 & 354 & 0.06 \\\\\n",
      "17 & Falls bru & 18 & 0 & 0 & 24 & 19 & 3 & 26 & 54 & 77 & 5 & 24 & 83 & 9 & 11 & 2 & 50 & 405 & 0.20 \\\\\n",
      "18 & Haukstad bru & 11 & 0 & 0 & 24 & 13 & 3 & 23 & 56 & 57 & 2 & 20 & 65 & 5 & 6 & 2 & 41 & 328 & 0.15 \\\\\n",
      "19 & Bjørge bru & 3 & 0 & 0 & 2 & 14 & 0 & 141 & 7 & 26 & 0 & 13 & 4 & 0 & 0 & 8 & 1 & 219 & 0.02 \\\\\n",
      "20 & Dystvoll bru & 15 & 0 & 0 & 14 & 46 & 0 & 221 & 73 & 39 & 2 & 50 & 93 & 0 & 0 & 13 & 14 & 580 & 0.07 \\\\\n",
      "21 & Brovoll & 19 & 3 & 0 & 89 & 68 & 1 & 328 & 311 & 73 & 9 & 215 & 467 & 6 & 3 & 32 & 88 & 1712 & 0.35 \\\\\n",
      "22 & Postbekkbrua & 0 & 4 & 0 & 0 & 3 & 40 & 4 & 11 & 2 & 12 & 31 & 2 & 0 & 17 & 0 & 0 & 126 & 0.05 \\\\\n",
      "23 & Strandlykkja bru & 0 & 2 & 0 & 0 & 8 & 6 & 32 & 57 & 2 & 3 & 35 & 95 & 1 & 3 & 2 & 24 & 270 & 0.08 \\\\\n",
      "24 & Frangsbekken kulvert  & 0 & 8 & 0 & 1 & 24 & 88 & 48 & 91 & 6 & 25 & 84 & 160 & 1 & 36 & 8 & 68 & 648 & 0.31 \\\\\n",
      "25 & Espa bru & 0 & 0 & 0 & 4 & 1 & 0 & 5 & 14 & 0 & 17 & 5 & 5 & 0 & 0 & 2 & 1 & 54 & 0.01 \\\\\n",
      "26 & Nordre Flagstad bru & 9 & 0 & 0 & 2 & 50 & 0 & 44 & 1 & 112 & 4 & 10 & 13 & 14 & 0 & 3 & 1 & 263 & 0.05 \\\\\n",
      "27 & Nashaug & 0 & 0 & 0 & 0 & 3 & 0 & 7 & 0 & 13 & 2 & 0 & 4 & 0 & 0 & 0 & 1 & 30 & 0.00 \\\\\n",
      "28 & Alderslyst bru & 4 & 0 & 0 & 13 & 32 & 0 & 88 & 62 & 23 & 0 & 43 & 184 & 1 & 0 & 13 & 41 & 504 & 0.15 \\\\\n",
      "29 & Grylling & 2 & 0 & 0 & 15 & 12 & 0 & 36 & 21 & 14 & 0 & 10 & 111 & 0 & 0 & 8 & 24 & 253 & 0.09 \\\\\n",
      "30 & Stensby bru & 0 & 0 & 0 & 0 & 3 & 0 & 0 & 0 & 0 & 0 & 0 & 0 & 0 & 0 & 0 & 0 & 3 & 0.00 \\\\\n",
      "31 & Budorvegen overgangsbru & 7 & 0 & 0 & 55 & 20 & 4 & 49 & 91 & 35 & 13 & 24 & 62 & 5 & 3 & 16 & 37 & 421 & 0.17 \\\\\n",
      "32 & Vingerjesa & 11 & 26 & 0 & 28 & 10 & 21 & 5 & 39 & 32 & 32 & 9 & 143 & 4 & 2 & 6 & 23 & 391 & 0.10 \\\\\n",
      "33 & Havrebekken bru & 8 & 5 & 0 & 52 & 48 & 0 & 52 & 260 & 35 & 5 & 45 & 481 & 2 & 3 & 16 & 88 & 1100 & 0.30 \\\\\n",
      "34 & Hammeren bru & 0 & 0 & 0 & 8 & 1 & 0 & 2 & 38 & 0 & 0 & 3 & 26 & 1 & 0 & 0 & 3 & 82 & 0.01 \\\\\n",
      "35 & Kanalbrua & 0 & 0 & 0 & 8 & 1 & 0 & 2 & 38 & 0 & 0 & 3 & 26 & 1 & 0 & 0 & 3 & 82 & 0.01 \\\\\n",
      "36 & Oset bru & 0 & 1 & 0 & 19 & 10 & 0 & 41 & 68 & 10 & 0 & 8 & 146 & 1 & 0 & 2 & 36 & 342 & 0.11 \\\\\n",
      "37 & Kirkebrua & 0 & 0 & 0 & 5 & 0 & 0 & 0 & 32 & 2 & 0 & 1 & 14 & 0 & 1 & 1 & 0 & 56 & 0.01 \\\\\n",
      "38 & Klæpa bru & 6 & 0 & 0 & 11 & 4 & 0 & 1 & 32 & 27 & 0 & 9 & 57 & 0 & 1 & 0 & 6 & 154 & 0.02 \\\\\n",
      "39 & Skogsrud bru & 4 & 1 & 0 & 9 & 5 & 5 & 17 & 59 & 2 & 0 & 78 & 92 & 1 & 1 & 24 & 10 & 308 & 0.10 \\\\\n",
      "40 & Skogsrud & 4 & 1 & 0 & 9 & 5 & 5 & 17 & 59 & 2 & 0 & 78 & 92 & 1 & 1 & 24 & 10 & 308 & 0.10 \\\\\n",
      "41 & Foss bru & 5 & 1 & 0 & 8 & 5 & 0 & 8 & 49 & 0 & 0 & 327 & 142 & 0 & 0 & 90 & 44 & 679 & 0.37 \\\\\n",
      "42 & Moen bru & 5 & 2 & 0 & 96 & 4 & 8 & 77 & 371 & 16 & 8 & 104 & 337 & 1 & 4 & 11 & 51 & 1095 & 0.18 \\\\\n",
      "43 & Hørsand bru & 0 & 0 & 0 & 19 & 0 & 0 & 0 & 83 & 2 & 0 & 1 & 54 & 3 & 3 & 0 & 1 & 166 & 0.02 \\\\\n",
      "44 & Ommangsvollen overgangsbru & 4 & 7 & 0 & 57 & 2 & 15 & 36 & 112 & 17 & 20 & 31 & 119 & 2 & 2 & 3 & 24 & 451 & 0.08 \\\\\n",
      "45 & Kolostuen nordg. & 8 & 0 & 0 & 302 & 38 & 26 & 492 & 836 & 49 & 43 & 723 & 1260 & 4 & 6 & 122 & 291 & 4200 & 1.16 \\\\\n",
      "46 & Kolostuen bru sørg. & 8 & 0 & 0 & 302 & 38 & 26 & 492 & 836 & 49 & 43 & 723 & 1260 & 4 & 6 & 122 & 291 & 4200 & 1.16 \\\\\n",
      "47 & Horne & 0 & 0 & 0 & 0 & 0 & 0 & 0 & 0 & 0 & 0 & 0 & 0 & 0 & 0 & 0 & 0 & 0 & 0.00 \\\\\n",
      "48 & Ilseng bru & 0 & 0 & 0 & 0 & 0 & 0 & 0 & 0 & 0 & 0 & 1 & 1 & 0 & 2 & 0 & 0 & 4 & 0.01 \\\\\n",
      "49 & Morønningen bru & 5 & 0 & 0 & 56 & 6 & 9 & 70 & 210 & 29 & 14 & 100 & 207 & 2 & 8 & 5 & 57 & 778 & 0.20 \\\\\n",
      "50 & Klevfoss bru & 10 & 3 & 0 & 65 & 7 & 10 & 46 & 268 & 17 & 9 & 39 & 174 & 1 & 3 & 8 & 26 & 686 & 0.10 \\\\\n",
      "51 & Nyhuset bru & 21 & 5 & 0 & 82 & 13 & 22 & 53 & 383 & 35 & 10 & 57 & 274 & 1 & 12 & 11 & 55 & 1034 & 0.22 \\\\\n",
      "Total & NaN & 268 & 118 & 0 & 1796 & 706 & 395 & 2776 & 6068 & 1054 & 532 & 3591 & 7793 & 97 & 333 & 731 & 1786 & 28044 & - \\\\\n",
      "\\bottomrule\n",
      "\\end{tabular}\n",
      "\n"
     ]
    },
    {
     "name": "stderr",
     "output_type": "stream",
     "text": [
      "/tmp/ipykernel_72745/354332635.py:3: FutureWarning: Setting an item of incompatible dtype is deprecated and will raise an error in a future version of pandas. Value '-' has dtype incompatible with float64, please explicitly cast to a compatible dtype first.\n",
      "  trailer_res.loc['Total', 'ÅDTT'] = '-'\n"
     ]
    }
   ],
   "source": [
    "trailer_res['ÅDTT'] = trailer_res[['2024 60t', '2024 65t', '2024 68t', '2024 74t']].sum(axis=1) / 365\n",
    "trailer_res['ÅDTT'] = trailer_res['ÅDTT'].round(2)\n",
    "trailer_res.loc['Total', 'ÅDTT'] = '-'\n",
    "print(truck_res.to_latex(formatters={'ÅDTT': lambda x: f'{x:.2f}' if isinstance(x, float) else x}))"
   ]
  },
  {
   "cell_type": "code",
   "execution_count": null,
   "metadata": {},
   "outputs": [],
   "source": []
  }
 ],
 "metadata": {
  "kernelspec": {
   "display_name": ".venv",
   "language": "python",
   "name": "python3"
  },
  "language_info": {
   "codemirror_mode": {
    "name": "ipython",
    "version": 3
   },
   "file_extension": ".py",
   "mimetype": "text/x-python",
   "name": "python",
   "nbconvert_exporter": "python",
   "pygments_lexer": "ipython3",
   "version": "3.12.3"
  }
 },
 "nbformat": 4,
 "nbformat_minor": 2
}
