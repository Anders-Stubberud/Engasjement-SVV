{
 "cells": [
  {
   "cell_type": "code",
   "execution_count": 27,
   "metadata": {},
   "outputs": [],
   "source": [
    "import pandas as pd\n",
    "from source.features_dir import estimated_registrations"
   ]
  },
  {
   "cell_type": "code",
   "execution_count": 28,
   "metadata": {},
   "outputs": [],
   "source": [
    "subpath = estimated_registrations.SUBPATH\n",
    "subpath = 'otto'"
   ]
  },
  {
   "cell_type": "code",
   "execution_count": 29,
   "metadata": {},
   "outputs": [],
   "source": [
    "df_truck = pd.read_csv(f'../data/processed/estimated_registrations/{subpath}/final-truck_only.csv')\n",
    "df_trailer = pd.read_csv(f'../data/processed/estimated_registrations/{subpath}/final-trailer_only.csv')"
   ]
  },
  {
   "cell_type": "code",
   "execution_count": 30,
   "metadata": {},
   "outputs": [],
   "source": [
    "def res(df_org):\n",
    "    df = df_org.copy()\n",
    "    numeric_df = df.select_dtypes(include=['number'])\n",
    "    df['Total'] = numeric_df.sum(axis=1)\n",
    "    total_row = numeric_df.sum(axis=0)\n",
    "    total_row['Total'] = df['Total'].sum()  # Grand total\n",
    "    total_df = pd.DataFrame(total_row).T\n",
    "    total_df.index = ['Total']  # Label the total row\n",
    "    result_df = pd.concat([df, total_df])\n",
    "    return result_df"
   ]
  },
  {
   "cell_type": "code",
   "execution_count": 31,
   "metadata": {},
   "outputs": [],
   "source": [
    "truck_res = res(df_truck)\n",
    "trailer_res = res(df_trailer)"
   ]
  },
  {
   "cell_type": "code",
   "execution_count": 32,
   "metadata": {},
   "outputs": [],
   "source": [
    "truck_res.to_csv(f'../data/processed/estimated_registrations/{subpath}/lastebil (område, ikke radius).csv', index=False)\n",
    "trailer_res.to_csv(f'../data/processed/estimated_registrations/{subpath}/tilhenger (område, ikke radius).csv', index=False)"
   ]
  },
  {
   "cell_type": "code",
   "execution_count": 33,
   "metadata": {},
   "outputs": [
    {
     "name": "stdout",
     "output_type": "stream",
     "text": [
      "\\begin{tabular}{llrrrrrrrrrrrrrrrrrl}\n",
      "\\toprule\n",
      " & Vei & 2021 60t & 2021 65t & 2021 68t & 2021 74t & 2022 60t & 2022 65t & 2022 68t & 2022 74t & 2023 60t & 2023 65t & 2023 68t & 2023 74t & 2024 60t & 2024 65t & 2024 68t & 2024 74t & Total & ÅDTT \\\\\n",
      "\\midrule\n",
      "0 & Fv24 S7 & 4 & 10 & 0 & 154 & 4 & 22 & 20 & 316 & 0 & 67 & 109 & 325 & 5 & 80 & 58 & 98 & 1272 & 0.66 \\\\\n",
      "1 & Fv24 S8 & 16 & 10 & 0 & 203 & 15 & 25 & 49 & 724 & 4 & 68 & 499 & 964 & 7 & 74 & 255 & 471 & 3384 & 2.21 \\\\\n",
      "2 & Fv227 S2 & 13 & 0 & 0 & 11 & 44 & 0 & 219 & 72 & 39 & 2 & 49 & 93 & 0 & 0 & 13 & 13 & 568 & 0.07 \\\\\n",
      "3 & Fv1796 S2 & 29 & 0 & 0 & 4 & 15 & 0 & 92 & 14 & 13 & 0 & 36 & 110 & 2 & 0 & 12 & 5 & 332 & 0.05 \\\\\n",
      "4 & Fv1798 S2 & 15 & 0 & 0 & 18 & 36 & 0 & 87 & 133 & 22 & 0 & 115 & 341 & 2 & 0 & 32 & 70 & 871 & 0.28 \\\\\n",
      "5 & Fv1820 S1 & 17 & 0 & 0 & 21 & 35 & 0 & 162 & 128 & 36 & 0 & 118 & 296 & 0 & 0 & 19 & 59 & 891 & 0.21 \\\\\n",
      "6 & Fv1844 S1 & 14 & 17 & 0 & 19 & 28 & 3 & 3 & 27 & 31 & 12 & 11 & 107 & 5 & 3 & 8 & 10 & 298 & 0.07 \\\\\n",
      "7 & Fv1900 S1 & 1 & 0 & 0 & 1 & 3 & 0 & 7 & 88 & 23 & 0 & 77 & 146 & 0 & 0 & 6 & 54 & 406 & 0.16 \\\\\n",
      "Total & NaN & 109 & 37 & 0 & 431 & 180 & 50 & 639 & 1502 & 168 & 149 & 1014 & 2382 & 21 & 157 & 403 & 780 & 8022 & - \\\\\n",
      "\\bottomrule\n",
      "\\end{tabular}\n",
      "\n"
     ]
    },
    {
     "name": "stderr",
     "output_type": "stream",
     "text": [
      "/tmp/ipykernel_1550/732592937.py:3: FutureWarning: Setting an item of incompatible dtype is deprecated and will raise an error in a future version of pandas. Value '-' has dtype incompatible with float64, please explicitly cast to a compatible dtype first.\n",
      "  truck_res.loc['Total', 'ÅDTT'] = '-'\n"
     ]
    }
   ],
   "source": [
    "truck_res['ÅDTT'] = truck_res[['2024 60t', '2024 65t', '2024 68t', '2024 74t']].sum(axis=1) / 365\n",
    "truck_res['ÅDTT'] = truck_res['ÅDTT'].round(2)\n",
    "truck_res.loc['Total', 'ÅDTT'] = '-'\n",
    "print(truck_res.to_latex(formatters={'ÅDTT': lambda x: f'{x:.2f}' if isinstance(x, float) else x}))"
   ]
  },
  {
   "cell_type": "code",
   "execution_count": 34,
   "metadata": {},
   "outputs": [
    {
     "name": "stdout",
     "output_type": "stream",
     "text": [
      "\\begin{tabular}{llrrrrrrrrrrrrrrrrrl}\n",
      "\\toprule\n",
      " & Vei & 2021 60t & 2021 65t & 2021 68t & 2021 74t & 2022 60t & 2022 65t & 2022 68t & 2022 74t & 2023 60t & 2023 65t & 2023 68t & 2023 74t & 2024 60t & 2024 65t & 2024 68t & 2024 74t & Total & ÅDTT \\\\\n",
      "\\midrule\n",
      "0 & Fv24 S7 & 0 & 0 & 0 & 71 & 0 & 0 & 0 & 198 & 0 & 35 & 11 & 198 & 9 & 18 & 27 & 71 & 638 & 0.34 \\\\\n",
      "1 & Fv24 S8 & 0 & 0 & 0 & 147 & 0 & 0 & 0 & 553 & 0 & 35 & 41 & 631 & 18 & 18 & 210 & 179 & 1832 & 1.16 \\\\\n",
      "2 & Fv227 S2 & 0 & 0 & 0 & 4 & 0 & 0 & 0 & 40 & 0 & 1 & 0 & 27 & 8 & 0 & 11 & 9 & 100 & 0.08 \\\\\n",
      "3 & Fv1796 S2 & 0 & 0 & 0 & 3 & 0 & 0 & 0 & 12 & 0 & 0 & 0 & 26 & 12 & 0 & 10 & 1 & 64 & 0.06 \\\\\n",
      "4 & Fv1798 S2 & 0 & 0 & 0 & 12 & 0 & 0 & 0 & 51 & 0 & 0 & 0 & 93 & 17 & 0 & 65 & 23 & 261 & 0.29 \\\\\n",
      "5 & Fv1820 S1 & 0 & 0 & 0 & 8 & 0 & 0 & 0 & 60 & 0 & 0 & 0 & 71 & 13 & 0 & 49 & 15 & 216 & 0.21 \\\\\n",
      "6 & Fv1844 S1 & 0 & 0 & 0 & 9 & 0 & 0 & 0 & 7 & 0 & 2 & 0 & 20 & 34 & 0 & 20 & 4 & 96 & 0.16 \\\\\n",
      "7 & Fv1900 S1 & 0 & 0 & 0 & 1 & 0 & 0 & 0 & 67 & 0 & 0 & 13 & 80 & 2 & 0 & 4 & 10 & 177 & 0.04 \\\\\n",
      "Total & NaN & 0 & 0 & 0 & 255 & 0 & 0 & 0 & 988 & 0 & 73 & 65 & 1146 & 113 & 36 & 396 & 312 & 3384 & - \\\\\n",
      "\\bottomrule\n",
      "\\end{tabular}\n",
      "\n"
     ]
    },
    {
     "name": "stderr",
     "output_type": "stream",
     "text": [
      "/tmp/ipykernel_1550/3023054618.py:3: FutureWarning: Setting an item of incompatible dtype is deprecated and will raise an error in a future version of pandas. Value '-' has dtype incompatible with float64, please explicitly cast to a compatible dtype first.\n",
      "  trailer_res.loc['Total', 'ÅDTT'] = '-'\n"
     ]
    }
   ],
   "source": [
    "trailer_res['ÅDTT'] = trailer_res[['2024 60t', '2024 65t', '2024 68t', '2024 74t']].sum(axis=1) / 365\n",
    "trailer_res['ÅDTT'] = trailer_res['ÅDTT'].round(2)\n",
    "trailer_res.loc['Total', 'ÅDTT'] = '-'\n",
    "print(trailer_res.to_latex(formatters={'ÅDTT': lambda x: f'{x:.2f}' if isinstance(x, float) else x}))"
   ]
  }
 ],
 "metadata": {
  "kernelspec": {
   "display_name": ".venv",
   "language": "python",
   "name": "python3"
  },
  "language_info": {
   "codemirror_mode": {
    "name": "ipython",
    "version": 3
   },
   "file_extension": ".py",
   "mimetype": "text/x-python",
   "name": "python",
   "nbconvert_exporter": "python",
   "pygments_lexer": "ipython3",
   "version": "3.12.3"
  }
 },
 "nbformat": 4,
 "nbformat_minor": 2
}
