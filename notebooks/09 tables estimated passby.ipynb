{
 "cells": [
  {
   "cell_type": "code",
   "execution_count": 6,
   "metadata": {},
   "outputs": [],
   "source": [
    "import pandas as pd"
   ]
  },
  {
   "cell_type": "code",
   "execution_count": 7,
   "metadata": {},
   "outputs": [],
   "source": [
    "df_truck = pd.read_csv('../data/processed/estimated_registrations/final-truck_only.csv')\n",
    "df_trailer = pd.read_csv('../data/processed/estimated_registrations/final-trailer_only.csv')"
   ]
  },
  {
   "cell_type": "code",
   "execution_count": 8,
   "metadata": {},
   "outputs": [],
   "source": [
    "def res(df_org):\n",
    "    df = df_org.copy()\n",
    "    numeric_df = df.select_dtypes(include=['number'])\n",
    "    df['Total'] = numeric_df.sum(axis=1)\n",
    "    total_row = numeric_df.sum(axis=0)\n",
    "    total_row['Total'] = df['Total'].sum()  # Grand total\n",
    "    total_df = pd.DataFrame(total_row).T\n",
    "    total_df.index = ['Total']  # Label the total row\n",
    "    result_df = pd.concat([df, total_df])\n",
    "    return result_df"
   ]
  },
  {
   "cell_type": "code",
   "execution_count": 9,
   "metadata": {},
   "outputs": [],
   "source": [
    "truck_res = res(df_truck)\n",
    "trailer_res = res(df_trailer)"
   ]
  },
  {
   "cell_type": "code",
   "execution_count": 10,
   "metadata": {},
   "outputs": [],
   "source": [
    "truck_res.to_csv('../data/processed/estimated_registrations/lastebil.csv', index=False)\n",
    "trailer_res.to_csv('../data/processed/estimated_registrations/tilhenger.csv', index=False)"
   ]
  },
  {
   "cell_type": "code",
   "execution_count": null,
   "metadata": {},
   "outputs": [],
   "source": []
  }
 ],
 "metadata": {
  "kernelspec": {
   "display_name": ".venv",
   "language": "python",
   "name": "python3"
  },
  "language_info": {
   "codemirror_mode": {
    "name": "ipython",
    "version": 3
   },
   "file_extension": ".py",
   "mimetype": "text/x-python",
   "name": "python",
   "nbconvert_exporter": "python",
   "pygments_lexer": "ipython3",
   "version": "3.12.3"
  }
 },
 "nbformat": 4,
 "nbformat_minor": 2
}
