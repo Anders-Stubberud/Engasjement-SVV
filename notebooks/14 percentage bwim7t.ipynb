{
 "cells": [
  {
   "cell_type": "code",
   "execution_count": null,
   "metadata": {},
   "outputs": [],
   "source": [
    "from source.config import DATA_DIR, RAW_DATA_DIR, PROCESSED_DATA_DIR, REPORTS_DIR\n",
    "from source.utils import sanitize_filename\n",
    "from source.features_dir.estimated_registrations import SUBPATH\n",
    "from pathlib import Path\n",
    "import pandas as pd\n",
    "from source.report import generate_latex_with_multiple_tables\n",
    "import os"
   ]
  },
  {
   "cell_type": "code",
   "execution_count": null,
   "metadata": {},
   "outputs": [],
   "source": [
    "def percentage_74t_registrations(subpath: str):\n",
    "    \n",
    "    def get_all_registrations(unsanitized_location: str):\n",
    "        '''\n",
    "        \n",
    "        '''\n",
    "        sanitized_filename = sanitize_filename(unsanitized_location)\n",
    "        df = pd.read_csv(RAW_DATA_DIR / 'estimated_registrations' / 'total_registrations_bwim74t' / f'{sanitized_filename}.csv', sep=';', encoding_errors='ignore')\n",
    "        df = df[df['Felt'] == 'Totalt']\n",
    "        df['Year'] = pd.to_datetime(df['Fra']).dt.year\n",
    "        return df\n",
    "\n",
    "    processed_data_project_path = PROCESSED_DATA_DIR / 'estimated_registrations' / subpath\n",
    "    latex_project_path = REPORTS_DIR / 'estimated_registrations' / subpath\n",
    "\n",
    "    df_truck = pd.read_csv(processed_data_project_path / 'final-truck_only.csv')\n",
    "    df_trailer = pd.read_csv(processed_data_project_path / 'final-trailer_only.csv')\n",
    "    dfs = [df_truck, df_trailer]\n",
    "\n",
    "\n",
    "    for i, df_74t in enumerate(dfs):\n",
    "        final_info = []\n",
    "        for road in df_74t['Vei'].to_list():\n",
    "            data = []   \n",
    "            df_all_registrations_for_road = get_all_registrations(road)\n",
    "            for year in [2021, 2022, 2023, 2024]:\n",
    "                all_registrations_for_year_in_16_24_category = df_all_registrations_for_road[df_all_registrations_for_road['Year'] == year]['16,0m - 24,0m']\n",
    "                all_registrations_for_year_in_above_24_category = df_all_registrations_for_road[df_all_registrations_for_road['Year'] == year]['>= 24,0m']\n",
    "                all_registrations_year_16_and_above = all_registrations_for_year_in_16_24_category + all_registrations_for_year_in_above_24_category\n",
    "                \n",
    "                n_74t_registrations_year_road_60 = df_74t[df_74t['Vei'] == road][f'{year} 60t']\n",
    "                n_74t_registrations_year_road_65 = df_74t[df_74t['Vei'] == road][f'{year} 65t']\n",
    "                n_74t_registrations_year_road_68 = df_74t[df_74t['Vei'] == road][f'{year} 68t']\n",
    "                n_74t_registrations_year_road_74 = df_74t[df_74t['Vei'] == road][f'{year} 74t']\n",
    "                n_74t_registrations_year_road_total = n_74t_registrations_year_road_60 + n_74t_registrations_year_road_65 + n_74t_registrations_year_road_68 + n_74t_registrations_year_road_74\n",
    "\n",
    "                percentage_74t_registrations_year_road = n_74t_registrations_year_road_total / all_registrations_year_16_and_above * 100\n",
    "\n",
    "                data.append({\n",
    "                    'År': year,\n",
    "                    '60t (3+4)': n_74t_registrations_year_road_60,\n",
    "                    '65t (4+4)': n_74t_registrations_year_road_65,\n",
    "                    '68t (3+5)': n_74t_registrations_year_road_68,\n",
    "                    '74t (4+5)': n_74t_registrations_year_road_74,\n",
    "                    'Totalt BK74': n_74t_registrations_year_road_total,\n",
    "                    'Prosent BK74': percentage_74t_registrations_year_road\n",
    "                })\n",
    "\n",
    "            df = pd.DataFrame(data)\n",
    "            os.makedirs(processed_data_project_path /'percentages', exist_ok=True)\n",
    "            df.to_csv(processed_data_project_path /'percentages' / f'{'trailer' if i else 'truck'}_percentages{road}.csv', index=False)\n",
    "            caption = f'Prosentandel BK74 {'tilhenger' if i else 'lastebil'}-registreringer av alle trafikkdata-registreringer for {road}'\n",
    "            final_info.append((df, caption))\n",
    "\n",
    "    generate_latex_with_multiple_tables(\n",
    "        output_dir=REPORTS_DIR / 'estimated_registrations' / subpath,\n",
    "        filename=f'percentage_74t_registrations',\n",
    "        title=f'Prosentandel BK74 registreringer av alle trafikkdata-registreringer',\n",
    "        tables=final_info\n",
    "    )\n",
    "\n",
    "percentage_74t_registrations(SUBPATH)"
   ]
  },
  {
   "cell_type": "code",
   "execution_count": null,
   "metadata": {},
   "outputs": [],
   "source": []
  }
 ],
 "metadata": {
  "kernelspec": {
   "display_name": ".venv",
   "language": "python",
   "name": "python3"
  },
  "language_info": {
   "codemirror_mode": {
    "name": "ipython",
    "version": 3
   },
   "file_extension": ".py",
   "mimetype": "text/x-python",
   "name": "python",
   "nbconvert_exporter": "python",
   "pygments_lexer": "ipython3",
   "version": "3.12.3"
  }
 },
 "nbformat": 4,
 "nbformat_minor": 2
}
