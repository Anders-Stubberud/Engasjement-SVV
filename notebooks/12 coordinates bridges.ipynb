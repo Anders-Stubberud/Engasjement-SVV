{
 "cells": [
  {
   "cell_type": "code",
   "execution_count": null,
   "metadata": {},
   "outputs": [
    {
     "name": "stdout",
     "output_type": "stream",
     "text": [
      "{'Mattisdammen': (np.float64(60.51677168505184), np.float64(11.510326218412164)), 'Faldåen bru': (np.float64(60.57652752475965), np.float64(11.505550925475927)), 'Sundåa bru': (np.float64(60.6387264750032), np.float64(11.412233420910692)), 'Støadammen': (np.float64(60.654229469547346), np.float64(11.390617675601824)), 'Uthus bru': (np.float64(60.723687198878075), np.float64(11.230132584947441)), 'Skavabakken': (np.float64(60.63335224479245), np.float64(11.300114083661134)), 'Rabben bru': (np.float64(60.62013314768529), np.float64(11.285873353622366)), 'Tangen 0/NSB': (np.float64(60.61736065486605), np.float64(11.26933431553975)), 'Vik bru': (np.float64(60.618946378122345), np.float64(11.261574247271819)), 'Breidablikk': (np.float64(60.77494925068418), np.float64(11.115334255159382)), 'Kulvert o/SV-ledning': (np.float64(60.78017084649244), np.float64(11.11123359265134)), 'Stangebrua': (np.float64(60.78762396678177), np.float64(11.098685583188555)), 'Hamar O/Rørosbanen': (np.float64(60.790534693423794), np.float64(11.091431004196252)), 'Vektbakken': (np.float64(60.811842823244014), np.float64(11.093410029220463)), 'Flagstad bru': (np.float64(60.815028735825976), np.float64(11.102792288562535)), 'Finsal-bekken': (np.float64(60.802741085683095), np.float64(11.130239277218823)), 'Lovisenberg o/g-sveg': (np.float64(60.799340071507565), np.float64(11.168306185315489)), 'Falls bru': (np.float64(60.80099539142448), np.float64(11.238516349340216)), 'Haukstad bru': (np.float64(60.79605432433371), np.float64(11.272968951996672)), 'Bjørge bru': (np.float64(60.86348723626033), np.float64(11.10898158957717)), 'Dystvoll bru': (np.float64(60.84440038554683), np.float64(11.19144094405706)), 'Brovoll': (np.float64(60.84082391307009), np.float64(11.241848333755824)), 'Postbekkbrua': (np.float64(60.51179576584362), np.float64(11.244030355541938)), 'Strandlykkja bru': (np.float64(60.514609123393775), np.float64(11.244582442394051)), 'Frangsbekken kulvert ': (np.float64(60.53569741903315), np.float64(11.2426907681058)), 'Espa bru': (np.float64(60.58184095607809), np.float64(11.27184886733593)), 'Nordre Flagstad bru': (np.float64(60.82115716821729), np.float64(11.099973807699156)), 'Nashaug': (np.float64(60.82277600756643), np.float64(11.162675619120321)), 'Alderslyst bru': (np.float64(60.862332847626874), np.float64(11.247213840919356)), 'Grylling': (np.float64(60.869160210303356), np.float64(11.333780547999718)), 'Stensby bru': (np.float64(60.81833819264595), np.float64(11.302087077106993)), 'Budorvegen overgangsbru': (np.float64(60.83366854990375), np.float64(11.29491917707992)), 'Vingerjesa': (np.float64(60.82219536346949), np.float64(11.336371312766774)), 'Havrebekken bru': (np.float64(60.792080022295295), np.float64(11.471456376253162)), 'Hammeren bru': (np.float64(60.79087410795737), np.float64(11.398571773968875)), 'Kanalbrua': (np.float64(60.787736018013696), np.float64(11.403167989100428)), 'Oset bru': (np.float64(60.78697905268489), np.float64(11.478159184971158)), 'Kirkebrua': (np.float64(60.752095382044565), np.float64(11.26193857971015)), 'Klæpa bru': (np.float64(60.78802783821712), np.float64(11.347735609021676)), 'Skogsrud bru': (np.float64(60.621558341791044), np.float64(11.297488574965435)), 'Skogsrud': (np.float64(60.621278168478916), np.float64(11.298923178516494)), 'Foss bru': (np.float64(60.66459919376075), np.float64(11.350275608257496)), 'Moen bru': (np.float64(60.73032706960831), np.float64(11.294683966970252)), 'Hørsand bru': (np.float64(60.78067894767223), np.float64(11.272725786268966)), 'Ommangsvollen overgangsbru': (np.float64(60.80184892007976), np.float64(11.290524776866558)), 'Kolostuen nordg.': (np.float64(60.691402484196516), np.float64(11.279031829535398)), 'Kolostuen bru sørg.': (np.float64(60.691207414798), np.float64(11.277814043994672)), 'Horne': (np.float64(60.77281221475984), np.float64(11.221016017944345)), 'Ilseng bru': (np.float64(60.77978678478401), np.float64(11.215348127692494)), 'Morønningen bru': (np.float64(60.73692260495727), np.float64(11.299446379397079)), 'Klevfoss bru': (np.float64(60.786773022083466), np.float64(11.302145657163708)), 'Nyhuset bru': (np.float64(60.78813169885624), np.float64(11.304325834725342))}\n"
     ]
    }
   ],
   "source": [
    "from source.config import RAW_DATA_DIR, INTERIM_DATA_DIR\n",
    "import pandas as pd\n",
    "import utm\n",
    "import requests\n",
    "from shapely import wkt\n",
    "import pickle\n",
    "import os\n",
    "\n",
    "df = pd.read_csv(RAW_DATA_DIR / 'bridges' / 'bridges.csv', delimiter=\";\")\n",
    "\n",
    "veg_referanser = \",\".join(df[\"Vegsystemreferanse\"].astype(str))\n",
    "\n",
    "url = \"https://nvdbapiles-v3.atlas.vegvesen.no/veg/batch\"\n",
    "params = {\n",
    "    \"vegsystemreferanser\": veg_referanser,\n",
    "    \"srid\": \"utm33\"\n",
    "}\n",
    "\n",
    "response = requests.get(url, params=params)\n",
    "\n",
    "if response.status_code == 200:\n",
    "    data = response.json()\n",
    "    road_coordinates = {\n",
    "        df.loc[df[\"Vegsystemreferanse\"] == road_reference, \"Brunavn\"].iloc[0]: \n",
    "        utm.to_latlon(wkt.loads(value[\"geometri\"][\"wkt\"]).x, wkt.loads(value[\"geometri\"][\"wkt\"]).y, zone_number=33, northern=True)               \n",
    "        for road_reference, value in data.items()\n",
    "    }\n",
    "    output_dir = INTERIM_DATA_DIR / 'bridges'\n",
    "    os.makedirs(output_dir, exist_ok=True)\n",
    "    with open(output_dir / 'bridge_coordinates.pkl', 'wb') as f:\n",
    "        pickle.dump(road_coordinates, f)\n",
    "else:\n",
    "    print(f\"Error: {response.status_code} - {response.text}\")\n"
   ]
  }
 ],
 "metadata": {
  "kernelspec": {
   "display_name": ".venv",
   "language": "python",
   "name": "python3"
  },
  "language_info": {
   "codemirror_mode": {
    "name": "ipython",
    "version": 3
   },
   "file_extension": ".py",
   "mimetype": "text/x-python",
   "name": "python",
   "nbconvert_exporter": "python",
   "pygments_lexer": "ipython3",
   "version": "3.12.3"
  }
 },
 "nbformat": 4,
 "nbformat_minor": 2
}
