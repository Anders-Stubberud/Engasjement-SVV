{
 "cells": [
  {
   "cell_type": "code",
   "execution_count": 2,
   "metadata": {},
   "outputs": [
    {
     "name": "stderr",
     "output_type": "stream",
     "text": [
      "\u001b[32m2025-01-08 13:32:33.975\u001b[0m | \u001b[1mINFO    \u001b[0m | \u001b[36msource.config\u001b[0m:\u001b[36m<module>\u001b[0m:\u001b[36m13\u001b[0m - \u001b[1mPROJ_ROOT path is: /home/anders/engasjement_svv\u001b[0m\n"
     ]
    }
   ],
   "source": [
    "import pandas as pd\n",
    "from source.config import RAW_DATA_DIR"
   ]
  },
  {
   "cell_type": "markdown",
   "metadata": {},
   "source": [
    "# Ånestad"
   ]
  },
  {
   "cell_type": "markdown",
   "metadata": {},
   "source": [
    "## Øst"
   ]
  },
  {
   "cell_type": "code",
   "execution_count": 3,
   "metadata": {},
   "outputs": [
    {
     "name": "stderr",
     "output_type": "stream",
     "text": [
      "/tmp/ipykernel_15421/2163606186.py:1: DtypeWarning: Columns (7,154,155,173,174,192,193) have mixed types. Specify dtype option on import or set low_memory=False.\n",
      "  df_aanestad_east = pd.read_csv(\n"
     ]
    }
   ],
   "source": [
    "df_aanestad_east = pd.read_csv(\n",
    "    filepath_or_buffer=RAW_DATA_DIR / 'WIM/Kistler_rv3_Aanestad/Kistler_rv3_Aanestad/20221014-20 Kistler_R3_ostg.csv', \n",
    "    sep=';',\n",
    "    skiprows=6,\n",
    "    on_bad_lines='skip'\n",
    ")"
   ]
  },
  {
   "cell_type": "code",
   "execution_count": 7,
   "metadata": {},
   "outputs": [
    {
     "data": {
      "text/html": [
       "<div>\n",
       "<style scoped>\n",
       "    .dataframe tbody tr th:only-of-type {\n",
       "        vertical-align: middle;\n",
       "    }\n",
       "\n",
       "    .dataframe tbody tr th {\n",
       "        vertical-align: top;\n",
       "    }\n",
       "\n",
       "    .dataframe thead th {\n",
       "        text-align: right;\n",
       "    }\n",
       "</style>\n",
       "<table border=\"1\" class=\"dataframe\">\n",
       "  <thead>\n",
       "    <tr style=\"text-align: right;\">\n",
       "      <th></th>\n",
       "      <th>ID</th>\n",
       "      <th>VehicleID</th>\n",
       "      <th>MetrologicalID</th>\n",
       "      <th>StartTime</th>\n",
       "      <th>StartTimeStr</th>\n",
       "      <th>LaneNo</th>\n",
       "      <th>LaneName</th>\n",
       "      <th>Error</th>\n",
       "      <th>ErrorFlag</th>\n",
       "      <th>Warning</th>\n",
       "      <th>...</th>\n",
       "      <th>AxleDistance64</th>\n",
       "      <th>Track64</th>\n",
       "      <th>PatchLengthRight64</th>\n",
       "      <th>PatchLengthLeft64</th>\n",
       "      <th>PatchWidthRight64</th>\n",
       "      <th>PatchWidthLeft64</th>\n",
       "      <th>PositionRight64</th>\n",
       "      <th>PositionLeft64</th>\n",
       "      <th>TireStatusRight64</th>\n",
       "      <th>TireStatusLeft64</th>\n",
       "    </tr>\n",
       "  </thead>\n",
       "  <tbody>\n",
       "    <tr>\n",
       "      <th>0</th>\n",
       "      <td>4929483</td>\n",
       "      <td>NaN</td>\n",
       "      <td>E734D0F0</td>\n",
       "      <td>1666303103510</td>\n",
       "      <td>2022-10-20T23:58:23.510+0200</td>\n",
       "      <td>1</td>\n",
       "      <td>Lane 1</td>\n",
       "      <td>NaN</td>\n",
       "      <td>0</td>\n",
       "      <td>NaN</td>\n",
       "      <td>...</td>\n",
       "      <td>NaN</td>\n",
       "      <td>NaN</td>\n",
       "      <td>NaN</td>\n",
       "      <td>NaN</td>\n",
       "      <td>NaN</td>\n",
       "      <td>NaN</td>\n",
       "      <td>NaN</td>\n",
       "      <td>NaN</td>\n",
       "      <td>NaN</td>\n",
       "      <td>NaN</td>\n",
       "    </tr>\n",
       "    <tr>\n",
       "      <th>1</th>\n",
       "      <td>4929482</td>\n",
       "      <td>NaN</td>\n",
       "      <td>E734D0F0</td>\n",
       "      <td>1666303025871</td>\n",
       "      <td>2022-10-20T23:57:05.871+0200</td>\n",
       "      <td>1</td>\n",
       "      <td>Lane 1</td>\n",
       "      <td>NaN</td>\n",
       "      <td>0</td>\n",
       "      <td>NaN</td>\n",
       "      <td>...</td>\n",
       "      <td>NaN</td>\n",
       "      <td>NaN</td>\n",
       "      <td>NaN</td>\n",
       "      <td>NaN</td>\n",
       "      <td>NaN</td>\n",
       "      <td>NaN</td>\n",
       "      <td>NaN</td>\n",
       "      <td>NaN</td>\n",
       "      <td>NaN</td>\n",
       "      <td>NaN</td>\n",
       "    </tr>\n",
       "    <tr>\n",
       "      <th>2</th>\n",
       "      <td>4929481</td>\n",
       "      <td>NaN</td>\n",
       "      <td>E734D0F0</td>\n",
       "      <td>1666303017827</td>\n",
       "      <td>2022-10-20T23:56:57.827+0200</td>\n",
       "      <td>1</td>\n",
       "      <td>Lane 1</td>\n",
       "      <td>NaN</td>\n",
       "      <td>0</td>\n",
       "      <td>NaN</td>\n",
       "      <td>...</td>\n",
       "      <td>NaN</td>\n",
       "      <td>NaN</td>\n",
       "      <td>NaN</td>\n",
       "      <td>NaN</td>\n",
       "      <td>NaN</td>\n",
       "      <td>NaN</td>\n",
       "      <td>NaN</td>\n",
       "      <td>NaN</td>\n",
       "      <td>NaN</td>\n",
       "      <td>NaN</td>\n",
       "    </tr>\n",
       "    <tr>\n",
       "      <th>3</th>\n",
       "      <td>4929480</td>\n",
       "      <td>NaN</td>\n",
       "      <td>E734D0F0</td>\n",
       "      <td>1666302940284</td>\n",
       "      <td>2022-10-20T23:55:40.284+0200</td>\n",
       "      <td>1</td>\n",
       "      <td>Lane 1</td>\n",
       "      <td>NaN</td>\n",
       "      <td>0</td>\n",
       "      <td>NaN</td>\n",
       "      <td>...</td>\n",
       "      <td>NaN</td>\n",
       "      <td>NaN</td>\n",
       "      <td>NaN</td>\n",
       "      <td>NaN</td>\n",
       "      <td>NaN</td>\n",
       "      <td>NaN</td>\n",
       "      <td>NaN</td>\n",
       "      <td>NaN</td>\n",
       "      <td>NaN</td>\n",
       "      <td>NaN</td>\n",
       "    </tr>\n",
       "    <tr>\n",
       "      <th>4</th>\n",
       "      <td>4929479</td>\n",
       "      <td>NaN</td>\n",
       "      <td>E734D0F0</td>\n",
       "      <td>1666302868841</td>\n",
       "      <td>2022-10-20T23:54:28.841+0200</td>\n",
       "      <td>1</td>\n",
       "      <td>Lane 1</td>\n",
       "      <td>NaN</td>\n",
       "      <td>0</td>\n",
       "      <td>NaN</td>\n",
       "      <td>...</td>\n",
       "      <td>NaN</td>\n",
       "      <td>NaN</td>\n",
       "      <td>NaN</td>\n",
       "      <td>NaN</td>\n",
       "      <td>NaN</td>\n",
       "      <td>NaN</td>\n",
       "      <td>NaN</td>\n",
       "      <td>NaN</td>\n",
       "      <td>NaN</td>\n",
       "      <td>NaN</td>\n",
       "    </tr>\n",
       "  </tbody>\n",
       "</table>\n",
       "<p>5 rows × 1249 columns</p>\n",
       "</div>"
      ],
      "text/plain": [
       "        ID  VehicleID MetrologicalID      StartTime  \\\n",
       "0  4929483        NaN       E734D0F0  1666303103510   \n",
       "1  4929482        NaN       E734D0F0  1666303025871   \n",
       "2  4929481        NaN       E734D0F0  1666303017827   \n",
       "3  4929480        NaN       E734D0F0  1666302940284   \n",
       "4  4929479        NaN       E734D0F0  1666302868841   \n",
       "\n",
       "                   StartTimeStr  LaneNo LaneName Error  ErrorFlag Warning  \\\n",
       "0  2022-10-20T23:58:23.510+0200       1   Lane 1   NaN          0     NaN   \n",
       "1  2022-10-20T23:57:05.871+0200       1   Lane 1   NaN          0     NaN   \n",
       "2  2022-10-20T23:56:57.827+0200       1   Lane 1   NaN          0     NaN   \n",
       "3  2022-10-20T23:55:40.284+0200       1   Lane 1   NaN          0     NaN   \n",
       "4  2022-10-20T23:54:28.841+0200       1   Lane 1   NaN          0     NaN   \n",
       "\n",
       "   ...  AxleDistance64  Track64  PatchLengthRight64  PatchLengthLeft64  \\\n",
       "0  ...             NaN      NaN                 NaN                NaN   \n",
       "1  ...             NaN      NaN                 NaN                NaN   \n",
       "2  ...             NaN      NaN                 NaN                NaN   \n",
       "3  ...             NaN      NaN                 NaN                NaN   \n",
       "4  ...             NaN      NaN                 NaN                NaN   \n",
       "\n",
       "  PatchWidthRight64  PatchWidthLeft64  PositionRight64  PositionLeft64  \\\n",
       "0               NaN               NaN              NaN             NaN   \n",
       "1               NaN               NaN              NaN             NaN   \n",
       "2               NaN               NaN              NaN             NaN   \n",
       "3               NaN               NaN              NaN             NaN   \n",
       "4               NaN               NaN              NaN             NaN   \n",
       "\n",
       "   TireStatusRight64  TireStatusLeft64  \n",
       "0                NaN               NaN  \n",
       "1                NaN               NaN  \n",
       "2                NaN               NaN  \n",
       "3                NaN               NaN  \n",
       "4                NaN               NaN  \n",
       "\n",
       "[5 rows x 1249 columns]"
      ]
     },
     "execution_count": 7,
     "metadata": {},
     "output_type": "execute_result"
    }
   ],
   "source": [
    "df_aanestad_east.head()"
   ]
  },
  {
   "cell_type": "markdown",
   "metadata": {},
   "source": [
    "## Vest"
   ]
  },
  {
   "cell_type": "code",
   "execution_count": null,
   "metadata": {},
   "outputs": [],
   "source": [
    "df_aanestad_east = pd.read_csv(RAW_DATA_DIR / 'WIM/Kistler_rv3_Aanestad/Kistler_rv3_Aanestad/20221014-20 Kistler_R3_vestg.csv')"
   ]
  },
  {
   "cell_type": "markdown",
   "metadata": {},
   "source": [
    "# Skibotn"
   ]
  },
  {
   "cell_type": "markdown",
   "metadata": {},
   "source": [
    "# Øysand"
   ]
  },
  {
   "cell_type": "markdown",
   "metadata": {},
   "source": [
    "# Verdal"
   ]
  }
 ],
 "metadata": {
  "kernelspec": {
   "display_name": ".venv",
   "language": "python",
   "name": "python3"
  },
  "language_info": {
   "codemirror_mode": {
    "name": "ipython",
    "version": 3
   },
   "file_extension": ".py",
   "mimetype": "text/x-python",
   "name": "python",
   "nbconvert_exporter": "python",
   "pygments_lexer": "ipython3",
   "version": "3.12.3"
  }
 },
 "nbformat": 4,
 "nbformat_minor": 2
}
