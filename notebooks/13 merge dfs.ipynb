{
 "cells": [
  {
   "cell_type": "code",
   "execution_count": 2,
   "metadata": {},
   "outputs": [],
   "source": [
    "from source.config import RAW_DATA_DIR\n",
    "import pandas as pd\n",
    "import glob\n",
    "import os\n",
    "\n",
    "csv_dir = RAW_DATA_DIR / '2024_74t_position_data'\n",
    "\n",
    "csv_files = glob.glob(os.path.join(csv_dir, \"*.csv\"))\n",
    "\n",
    "df_list = [pd.read_csv(file, low_memory=False, sep=';') for file in csv_files]\n",
    "merged_df = pd.concat(df_list, ignore_index=True)\n",
    "\n",
    "# Convert \"Dato\" column to the desired datetime format\n",
    "merged_df[\"Dato\"] = pd.to_datetime(merged_df[\"Dato\"], dayfirst=False, errors=\"coerce\")\n",
    "merged_df[\"Dato\"] = merged_df[\"Dato\"].dt.strftime(\"%Y-%m-%d %H:%M:%S.%f\")\n",
    "\n",
    "output_file = RAW_DATA_DIR / 'estimated_registrations' / '2024-01-01_2024-12-31.csv'\n",
    "merged_df.to_csv(output_file, index=False)\n"
   ]
  },
  {
   "cell_type": "code",
   "execution_count": null,
   "metadata": {},
   "outputs": [],
   "source": []
  }
 ],
 "metadata": {
  "kernelspec": {
   "display_name": ".venv",
   "language": "python",
   "name": "python3"
  },
  "language_info": {
   "codemirror_mode": {
    "name": "ipython",
    "version": 3
   },
   "file_extension": ".py",
   "mimetype": "text/x-python",
   "name": "python",
   "nbconvert_exporter": "python",
   "pygments_lexer": "ipython3",
   "version": "3.12.3"
  }
 },
 "nbformat": 4,
 "nbformat_minor": 2
}
